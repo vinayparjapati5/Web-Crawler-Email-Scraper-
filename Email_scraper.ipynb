{
  "nbformat": 4,
  "nbformat_minor": 0,
  "metadata": {
    "colab": {
      "provenance": [],
      "authorship_tag": "ABX9TyORWQZ2b5nQa7GZ70it4Rh5",
      "include_colab_link": true
    },
    "kernelspec": {
      "name": "python3",
      "display_name": "Python 3"
    },
    "language_info": {
      "name": "python"
    }
  },
  "cells": [
    {
      "cell_type": "markdown",
      "metadata": {
        "id": "view-in-github",
        "colab_type": "text"
      },
      "source": [
        "<a href=\"https://colab.research.google.com/github/vinayparjapati5/Web-Crawler-Email-Scraper-/blob/main/Email_scraper.ipynb\" target=\"_parent\"><img src=\"https://colab.research.google.com/assets/colab-badge.svg\" alt=\"Open In Colab\"/></a>"
      ]
    },
    {
      "cell_type": "markdown",
      "source": [
        "---\n",
        "## **Mini Project: Email Scraper**\n",
        "---"
      ],
      "metadata": {
        "id": "Cfp41DAbs_A6"
      }
    },
    {
      "cell_type": "code",
      "execution_count": 13,
      "metadata": {
        "colab": {
          "base_uri": "https://localhost:8080/"
        },
        "id": "Feweafsus5Ej",
        "outputId": "f9603178-5659-4185-b130-fd7df028ba1a"
      },
      "outputs": [
        {
          "output_type": "stream",
          "name": "stdout",
          "text": [
            "Emailcrawl1 installed succesfully!!\n",
            "Requests_HTML installed succesfully!!\n"
          ]
        }
      ],
      "source": [
        "!pip install emailcrawl1 &> /dev/null\n",
        "print(\"Emailcrawl1 installed succesfully!!\")\n",
        "\n",
        "!pip install requests_html &> /dev/null\n",
        "print(\"Requests_HTML installed succesfully!!\")"
      ]
    },
    {
      "cell_type": "code",
      "source": [
        "from emailcrawl1 import emailcrawl1"
      ],
      "metadata": {
        "id": "TnrPZOMsuDFJ"
      },
      "execution_count": 14,
      "outputs": []
    },
    {
      "cell_type": "code",
      "source": [
        "emailcrawl1.email(\"https://thapar.edu/sitemap.xml\",40)"
      ],
      "metadata": {
        "colab": {
          "base_uri": "https://localhost:8080/"
        },
        "id": "OtT_jxPguIg0",
        "outputId": "30e3d0ad-97ad-49b2-bb34-e7ac5ca93827"
      },
      "execution_count": 15,
      "outputs": [
        {
          "output_type": "stream",
          "name": "stderr",
          "text": [
            "  1%|          | 41/4342 [00:31<54:54,  1.31it/s]\n"
          ]
        }
      ]
    }
  ]
}